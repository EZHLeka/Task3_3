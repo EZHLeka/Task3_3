{
 "cells": [
  {
   "cell_type": "code",
   "execution_count": 2,
   "id": "b664d9f5",
   "metadata": {},
   "outputs": [],
   "source": [
    "import pyspark.sql.types as T\n",
    "import pyspark.sql.functions as F\n",
    "import datetime\n",
    "from pyspark.sql import SparkSession\n",
    "\n",
    "spark = SparkSession.\\\n",
    "        builder.\\\n",
    "        appName(\"testspark-notebook\").\\\n",
    "        master(\"spark://spark-master:7077\").\\\n",
    "        config(\"spark.executor.memory\", \"512m\").\\\n",
    "        getOrCreate()"
   ]
  },
  {
   "cell_type": "code",
   "execution_count": 3,
   "id": "8126ce8c",
   "metadata": {},
   "outputs": [],
   "source": [
    "schema = T.StructType([\n",
    "                T.StructField(\"id\", T.IntegerType(), True),\n",
    "                T.StructField(\"timestamp\", T.TimestampType(), True),\n",
    "                T.StructField(\"type\", T.ArrayType(T.StringType()), True),\n",
    "                T.StructField(\"page_id\", T.IntegerType(), True),\n",
    "                T.StructField(\"tag\", T.StringType(), True),\n",
    "                T.StructField(\"sign\", T.BooleanType(), True)])"
   ]
  },
  {
   "cell_type": "code",
   "execution_count": 4,
   "id": "fc6ce639",
   "metadata": {},
   "outputs": [],
   "source": [
    "from datetime import datetime\n",
    "data = [\n",
    "            (1, datetime.strptime('2022-11-20 10:00:00', '%Y-%m-%d %H:%M:%S'), ['visit'], 1, 'sport', True),\n",
    "            (1, datetime.strptime('2022-11-20 10:01:00', '%Y-%m-%d %H:%M:%S'), ['click', 'scroll'], 1, 'sport', True),\n",
    "            (1, datetime.strptime('2022-11-20 10:20:00', '%Y-%m-%d %H:%M:%S'), ['move'], 1, 'sport', True),\n",
    "            (1, datetime.strptime('2022-11-20 10:21:00', '%Y-%m-%d %H:%M:%S'), ['click', 'scroll'], 2, 'medik', True),\n",
    "            (1, datetime.strptime('2022-11-20 10:21:00', '%Y-%m-%d %H:%M:%S'), ['move'], 2, 'medik', True),\n",
    "            (1, datetime.strptime('2022-11-20 10:37:00', '%Y-%m-%d %H:%M:%S'), ['click', 'scroll'], 3, 'deti', True),\n",
    "            (1, datetime.strptime('2022-11-20 11:00:00', '%Y-%m-%d %H:%M:%S'), ['move'], 2, 'deti', True),\n",
    "    \n",
    "            (2, datetime.strptime('2022-11-20 18:00:00', '%Y-%m-%d %H:%M:%S'), ['visit', 'click'], 2, 'medik', False), \n",
    "            (2, datetime.strptime('2022-11-20 18:05:00', '%Y-%m-%d %H:%M:%S'), ['scroll'], 2, 'medik', False),  \n",
    "            (2, datetime.strptime('2022-11-20 18:20:00', '%Y-%m-%d %H:%M:%S'), ['move'], 2, 'medik', False),  \n",
    "            (2, datetime.strptime('2022-11-20 18:21:00', '%Y-%m-%d %H:%M:%S'), ['click'], 3, 'deti', False),  \n",
    "            (2, datetime.strptime('2022-11-21 11:00:00', '%Y-%m-%d %H:%M:%S'), ['visit', 'click'], 2, 'medik', False),  \n",
    "            (2, datetime.strptime('2022-11-21 11:15:00', '%Y-%m-%d %H:%M:%S'), ['move'], 2, 'medik', False),  \n",
    "            (2, datetime.strptime('2022-11-21 11:00:00', '%Y-%m-%d %H:%M:%S'), ['click', 'scroll'], 4, 'politik', False),  \n",
    "            (2, datetime.strptime('2022-11-21 11:00:00', '%Y-%m-%d %H:%M:%S'), ['move'], 4, 'politik', False),  \n",
    "    \n",
    "            (3, datetime.strptime('2022-11-20 12:00:00', '%Y-%m-%d %H:%M:%S'), ['visit'], 2, 'medik', True),\n",
    "            (3, datetime.strptime('2022-11-20 12:03:00', '%Y-%m-%d %H:%M:%S'), ['click', 'scroll'], 2, 'medik', True),\n",
    "            (3, datetime.strptime('2022-11-20 12:23:00', '%Y-%m-%d %H:%M:%S'), ['move'], 2, 'medik', True),\n",
    "            (3, datetime.strptime('2022-11-25 12:00:00', '%Y-%m-%d %H:%M:%S'), ['visit'], 2, 'medik', True),\n",
    "            (3, datetime.strptime('2022-11-25 12:03:00', '%Y-%m-%d %H:%M:%S'), ['click', 'scroll'], 2, 'medik', True),\n",
    "            (3, datetime.strptime('2022-11-25 12:23:00', '%Y-%m-%d %H:%M:%S'), ['move'], 2, 'medik', True),\n",
    "    \n",
    "            (4, datetime.strptime('2022-11-20 11:00:00', '%Y-%m-%d %H:%M:%S'), ['visit'], 4, 'politik', False),\n",
    "            (4, datetime.strptime('2022-11-20 11:10:00', '%Y-%m-%d %H:%M:%S'), ['click', 'scroll'], 4, 'politik', False),\n",
    "            (4, datetime.strptime('2022-11-20 11:27:00', '%Y-%m-%d %H:%M:%S'), ['move'], 4, 'politik', False),\n",
    "            (4, datetime.strptime('2022-11-20 11:28:00', '%Y-%m-%d %H:%M:%S'), ['click'], 1, 'sport', False),\n",
    "            (4, datetime.strptime('2022-11-20 11:38:00', '%Y-%m-%d %H:%M:%S'), ['move'], 1, 'sport', False),\n",
    "    \n",
    "            (5, datetime.strptime('2022-11-20 14:00:00', '%Y-%m-%d %H:%M:%S'), ['visit', 'click'], 1, 'sport', True),\n",
    "            (5, datetime.strptime('2022-11-20 14:05:00', '%Y-%m-%d %H:%M:%S'), ['scroll'], 1, 'sport', True),\n",
    "            (5, datetime.strptime('2022-11-20 14:37:00', '%Y-%m-%d %H:%M:%S'), ['move'], 1, 'sport', True),\n",
    "            (5, datetime.strptime('2022-11-20 14:38:00', '%Y-%m-%d %H:%M:%S'), ['click', 'scroll'], 4, 'politik', True),\n",
    "            (5, datetime.strptime('2022-11-20 15:00:00', '%Y-%m-%d %H:%M:%S'), ['move'], 4, 'politik', True),\n",
    "    \n",
    "            (6, datetime.strptime('2022-11-21 00:10:00', '%Y-%m-%d %H:%M:%S'), ['visit', 'click'], 1, 'sport', False),\n",
    "            (6, datetime.strptime('2022-11-21 00:15:00', '%Y-%m-%d %H:%M:%S'), ['scroll'], 1, 'sport', False),\n",
    "            (6, datetime.strptime('2022-11-21 00:30:00', '%Y-%m-%d %H:%M:%S'), ['move'], 1, 'sport', False),\n",
    "            (6, datetime.strptime('2022-11-21 00:31:00', '%Y-%m-%d %H:%M:%S'), ['click'], 4, 'politik', False),\n",
    "            (6, datetime.strptime('2022-11-21 00:32:00', '%Y-%m-%d %H:%M:%S'), ['scroll'], 4, 'politik', False),\n",
    "            (6, datetime.strptime('2022-11-21 01:05:00', '%Y-%m-%d %H:%M:%S'), ['move'], 4, 'politik', False),\n",
    "            (6, datetime.strptime('2022-11-21 01:22:00', '%Y-%m-%d %H:%M:%S'), ['click'], 1, 'sport', False),\n",
    "    \n",
    "            (7, datetime.strptime('2022-11-22 09:00:00', '%Y-%m-%d %H:%M:%S'), ['visit', 'click'], 1, 'sport', True),\n",
    "            (7, datetime.strptime('2022-11-22 09:10:00', '%Y-%m-%d %H:%M:%S'), ['scroll'], 1, 'sport', True),\n",
    "            (7, datetime.strptime('2022-11-22 09:30:00', '%Y-%m-%d %H:%M:%S'), ['move'], 1, 'sport', True),\n",
    "            (7, datetime.strptime('2022-11-24 16:00:00', '%Y-%m-%d %H:%M:%S'), ['visit', 'click'], 2, 'medik', True),\n",
    "            (7, datetime.strptime('2022-11-24 16:30:00', '%Y-%m-%d %H:%M:%S'), ['move'], 2, 'medik', True),\n",
    "    \n",
    "            (8, datetime.strptime('2022-11-21 14:00:00', '%Y-%m-%d %H:%M:%S'), ['visit'], 1, 'sport', False),\n",
    "            (8, datetime.strptime('2022-11-21 14:10:00', '%Y-%m-%d %H:%M:%S'), ['click', 'scroll'], 1, 'sport', False),\n",
    "            (8, datetime.strptime('2022-11-21 14:40:00', '%Y-%m-%d %H:%M:%S'), ['move'], 1, 'sport', False),\n",
    "    \n",
    "            (9, datetime.strptime('2022-11-20 10:00:00', '%Y-%m-%d %H:%M:%S'), ['visit'], 4, 'politik', False),\n",
    "            (9, datetime.strptime('2022-11-20 10:20:00', '%Y-%m-%d %H:%M:%S'), ['click', 'scroll'], 4, 'politik', False),\n",
    "            (9, datetime.strptime('2022-11-20 10:57:00', '%Y-%m-%d %H:%M:%S'), ['move'], 4, 'politik', False),\n",
    "            (9, datetime.strptime('2022-11-22 10:00:00', '%Y-%m-%d %H:%M:%S'), ['visit'], 4, 'politik', False),\n",
    "            (9, datetime.strptime('2022-11-22 10:20:00', '%Y-%m-%d %H:%M:%S'), ['click', 'scroll'], 4, 'politik', False),\n",
    "            (9, datetime.strptime('2022-11-22 10:57:00', '%Y-%m-%d %H:%M:%S'), ['move'], 4, 'politik', False),\n",
    "            (9, datetime.strptime('2022-11-24 10:00:00', '%Y-%m-%d %H:%M:%S'), ['visit'], 4, 'politik', False),\n",
    "            (9, datetime.strptime('2022-11-24 10:20:00', '%Y-%m-%d %H:%M:%S'), ['click', 'scroll'], 4, 'politik', False),\n",
    "            (9, datetime.strptime('2022-11-24 10:57:00', '%Y-%m-%d %H:%M:%S'), ['move'], 4, 'politik', False),\n",
    "    \n",
    "            (10, datetime.strptime('2022-11-22 22:00:00', '%Y-%m-%d %H:%M:%S'), ['visit'], 1, 'sport', False),\n",
    "            (10, datetime.strptime('2022-11-22 22:15:00', '%Y-%m-%d %H:%M:%S'), ['click', 'scroll'], 1, 'sport', False),\n",
    "            (10, datetime.strptime('2022-11-22 22:55:00', '%Y-%m-%d %H:%M:%S'), ['move'], 1, 'sport', False)\n",
    " ]\n",
    "\n",
    "# columns = [\"firstname\",\"middlename\",\"lastname\",\"dob\",\"gender\",\"salary\"]\n",
    "df = spark.createDataFrame(data=data, schema = schema)"
   ]
  },
  {
   "cell_type": "code",
   "execution_count": null,
   "id": "42af08cc",
   "metadata": {},
   "outputs": [],
   "source": []
  },
  {
   "cell_type": "code",
   "execution_count": 5,
   "id": "4a1efd9b",
   "metadata": {},
   "outputs": [
    {
     "name": "stdout",
     "output_type": "stream",
     "text": [
      "root\n",
      " |-- id: integer (nullable = true)\n",
      " |-- timestamp: timestamp (nullable = true)\n",
      " |-- type: array (nullable = true)\n",
      " |    |-- element: string (containsNull = true)\n",
      " |-- page_id: integer (nullable = true)\n",
      " |-- tag: string (nullable = true)\n",
      " |-- sign: boolean (nullable = true)\n",
      "\n"
     ]
    }
   ],
   "source": [
    "df.printSchema()"
   ]
  },
  {
   "cell_type": "code",
   "execution_count": 6,
   "id": "8c4cf5da",
   "metadata": {},
   "outputs": [
    {
     "name": "stderr",
     "output_type": "stream",
     "text": [
      "[Stage 0:>                                                          (0 + 1) / 1]\r"
     ]
    },
    {
     "name": "stdout",
     "output_type": "stream",
     "text": [
      "+---+-------------------+---------------+-------+-----+----+\n",
      "| id|          timestamp|           type|page_id|  tag|sign|\n",
      "+---+-------------------+---------------+-------+-----+----+\n",
      "|  1|2022-11-20 10:00:00|        [visit]|      1|sport|true|\n",
      "|  1|2022-11-20 10:01:00|[click, scroll]|      1|sport|true|\n",
      "|  1|2022-11-20 10:20:00|         [move]|      1|sport|true|\n",
      "|  1|2022-11-20 10:21:00|[click, scroll]|      2|medik|true|\n",
      "|  1|2022-11-20 10:21:00|         [move]|      2|medik|true|\n",
      "+---+-------------------+---------------+-------+-----+----+\n",
      "only showing top 5 rows\n",
      "\n"
     ]
    },
    {
     "name": "stderr",
     "output_type": "stream",
     "text": [
      "                                                                                \r"
     ]
    }
   ],
   "source": [
    "df.show(5)"
   ]
  },
  {
   "cell_type": "code",
   "execution_count": 7,
   "id": "cd42d34c",
   "metadata": {},
   "outputs": [],
   "source": [
    "df1 = df.withColumn(\"date_visit\", F.to_date(F.col(\"timestamp\")))"
   ]
  },
  {
   "cell_type": "code",
   "execution_count": 8,
   "id": "b04e87b3",
   "metadata": {},
   "outputs": [
    {
     "name": "stderr",
     "output_type": "stream",
     "text": [
      "[Stage 1:>                                                          (0 + 1) / 1]\r"
     ]
    },
    {
     "name": "stdout",
     "output_type": "stream",
     "text": [
      "+---+-------------------+---------------+-------+-------+-----+----------+\n",
      "| id|          timestamp|           type|page_id|    tag| sign|date_visit|\n",
      "+---+-------------------+---------------+-------+-------+-----+----------+\n",
      "|  1|2022-11-20 10:00:00|        [visit]|      1|  sport| true|2022-11-20|\n",
      "|  1|2022-11-20 10:01:00|[click, scroll]|      1|  sport| true|2022-11-20|\n",
      "|  1|2022-11-20 10:20:00|         [move]|      1|  sport| true|2022-11-20|\n",
      "|  1|2022-11-20 10:21:00|[click, scroll]|      2|  medik| true|2022-11-20|\n",
      "|  1|2022-11-20 10:21:00|         [move]|      2|  medik| true|2022-11-20|\n",
      "|  1|2022-11-20 10:37:00|[click, scroll]|      3|   deti| true|2022-11-20|\n",
      "|  1|2022-11-20 11:00:00|         [move]|      2|   deti| true|2022-11-20|\n",
      "|  2|2022-11-20 18:00:00| [visit, click]|      2|  medik|false|2022-11-20|\n",
      "|  2|2022-11-20 18:05:00|       [scroll]|      2|  medik|false|2022-11-20|\n",
      "|  2|2022-11-20 18:20:00|         [move]|      2|  medik|false|2022-11-20|\n",
      "|  2|2022-11-20 18:21:00|        [click]|      3|   deti|false|2022-11-20|\n",
      "|  2|2022-11-21 11:00:00| [visit, click]|      2|  medik|false|2022-11-21|\n",
      "|  2|2022-11-21 11:15:00|         [move]|      2|  medik|false|2022-11-21|\n",
      "|  2|2022-11-21 11:00:00|[click, scroll]|      4|politik|false|2022-11-21|\n",
      "|  2|2022-11-21 11:00:00|         [move]|      4|politik|false|2022-11-21|\n",
      "|  3|2022-11-20 12:00:00|        [visit]|      2|  medik| true|2022-11-20|\n",
      "|  3|2022-11-20 12:03:00|[click, scroll]|      2|  medik| true|2022-11-20|\n",
      "|  3|2022-11-20 12:23:00|         [move]|      2|  medik| true|2022-11-20|\n",
      "|  3|2022-11-25 12:00:00|        [visit]|      2|  medik| true|2022-11-25|\n",
      "|  3|2022-11-25 12:03:00|[click, scroll]|      2|  medik| true|2022-11-25|\n",
      "|  3|2022-11-25 12:23:00|         [move]|      2|  medik| true|2022-11-25|\n",
      "|  4|2022-11-20 11:00:00|        [visit]|      4|politik|false|2022-11-20|\n",
      "|  4|2022-11-20 11:10:00|[click, scroll]|      4|politik|false|2022-11-20|\n",
      "|  4|2022-11-20 11:27:00|         [move]|      4|politik|false|2022-11-20|\n",
      "|  4|2022-11-20 11:28:00|        [click]|      1|  sport|false|2022-11-20|\n",
      "|  4|2022-11-20 11:38:00|         [move]|      1|  sport|false|2022-11-20|\n",
      "|  5|2022-11-20 14:00:00| [visit, click]|      1|  sport| true|2022-11-20|\n",
      "|  5|2022-11-20 14:05:00|       [scroll]|      1|  sport| true|2022-11-20|\n",
      "|  5|2022-11-20 14:37:00|         [move]|      1|  sport| true|2022-11-20|\n",
      "|  5|2022-11-20 14:38:00|[click, scroll]|      4|politik| true|2022-11-20|\n",
      "|  5|2022-11-20 15:00:00|         [move]|      4|politik| true|2022-11-20|\n",
      "|  6|2022-11-21 00:10:00| [visit, click]|      1|  sport|false|2022-11-21|\n",
      "|  6|2022-11-21 00:15:00|       [scroll]|      1|  sport|false|2022-11-21|\n",
      "|  6|2022-11-21 00:30:00|         [move]|      1|  sport|false|2022-11-21|\n",
      "|  6|2022-11-21 00:31:00|        [click]|      4|politik|false|2022-11-21|\n",
      "|  6|2022-11-21 00:32:00|       [scroll]|      4|politik|false|2022-11-21|\n",
      "|  6|2022-11-21 01:05:00|         [move]|      4|politik|false|2022-11-21|\n",
      "|  6|2022-11-21 01:22:00|        [click]|      1|  sport|false|2022-11-21|\n",
      "|  7|2022-11-22 09:00:00| [visit, click]|      1|  sport| true|2022-11-22|\n",
      "|  7|2022-11-22 09:10:00|       [scroll]|      1|  sport| true|2022-11-22|\n",
      "|  7|2022-11-22 09:30:00|         [move]|      1|  sport| true|2022-11-22|\n",
      "|  7|2022-11-24 16:00:00| [visit, click]|      2|  medik| true|2022-11-24|\n",
      "|  7|2022-11-24 16:30:00|         [move]|      2|  medik| true|2022-11-24|\n",
      "|  8|2022-11-21 14:00:00|        [visit]|      1|  sport|false|2022-11-21|\n",
      "|  8|2022-11-21 14:10:00|[click, scroll]|      1|  sport|false|2022-11-21|\n",
      "|  8|2022-11-21 14:40:00|         [move]|      1|  sport|false|2022-11-21|\n",
      "|  9|2022-11-20 10:00:00|        [visit]|      4|politik|false|2022-11-20|\n",
      "|  9|2022-11-20 10:20:00|[click, scroll]|      4|politik|false|2022-11-20|\n",
      "|  9|2022-11-20 10:57:00|         [move]|      4|politik|false|2022-11-20|\n",
      "|  9|2022-11-22 10:00:00|        [visit]|      4|politik|false|2022-11-22|\n",
      "|  9|2022-11-22 10:20:00|[click, scroll]|      4|politik|false|2022-11-22|\n",
      "|  9|2022-11-22 10:57:00|         [move]|      4|politik|false|2022-11-22|\n",
      "|  9|2022-11-24 10:00:00|        [visit]|      4|politik|false|2022-11-24|\n",
      "|  9|2022-11-24 10:20:00|[click, scroll]|      4|politik|false|2022-11-24|\n",
      "|  9|2022-11-24 10:57:00|         [move]|      4|politik|false|2022-11-24|\n",
      "| 10|2022-11-22 22:00:00|        [visit]|      1|  sport|false|2022-11-22|\n",
      "| 10|2022-11-22 22:15:00|[click, scroll]|      1|  sport|false|2022-11-22|\n",
      "| 10|2022-11-22 22:55:00|         [move]|      1|  sport|false|2022-11-22|\n",
      "+---+-------------------+---------------+-------+-------+-----+----------+\n",
      "\n"
     ]
    },
    {
     "name": "stderr",
     "output_type": "stream",
     "text": [
      "                                                                                \r"
     ]
    }
   ],
   "source": [
    "df1.show(100)"
   ]
  },
  {
   "cell_type": "code",
   "execution_count": 9,
   "id": "b1bb032c",
   "metadata": {},
   "outputs": [
    {
     "name": "stderr",
     "output_type": "stream",
     "text": [
      "[Stage 4:============================================>          (161 + 2) / 200]\r"
     ]
    },
    {
     "name": "stdout",
     "output_type": "stream",
     "text": [
      "+---+----------+\n",
      "| id|date_visit|\n",
      "+---+----------+\n",
      "|  1|2022-11-20|\n",
      "|  2|2022-11-20|\n",
      "|  2|2022-11-21|\n",
      "|  3|2022-11-20|\n",
      "|  3|2022-11-25|\n",
      "|  4|2022-11-20|\n",
      "|  5|2022-11-20|\n",
      "|  6|2022-11-21|\n",
      "|  7|2022-11-22|\n",
      "|  7|2022-11-24|\n",
      "|  8|2022-11-21|\n",
      "|  9|2022-11-20|\n",
      "|  9|2022-11-22|\n",
      "|  9|2022-11-24|\n",
      "| 10|2022-11-22|\n",
      "+---+----------+\n",
      "\n"
     ]
    },
    {
     "name": "stderr",
     "output_type": "stream",
     "text": [
      "                                                                                \r"
     ]
    }
   ],
   "source": [
    "df2 = df1.select(\"id\",\"date_visit\").distinct()\n",
    "df2.orderBy(\"id\",\"date_visit\").show()"
   ]
  },
  {
   "cell_type": "code",
   "execution_count": null,
   "id": "3026f4e3",
   "metadata": {},
   "outputs": [],
   "source": [
    "# Вывести топ-5 самых активных посетителей сайта"
   ]
  },
  {
   "cell_type": "code",
   "execution_count": 17,
   "id": "ecc425d8",
   "metadata": {},
   "outputs": [
    {
     "name": "stderr",
     "output_type": "stream",
     "text": [
      "[Stage 27:=========================================>            (152 + 2) / 200]\r"
     ]
    },
    {
     "name": "stdout",
     "output_type": "stream",
     "text": [
      "+---+-----+\n",
      "| id|count|\n",
      "+---+-----+\n",
      "|  9|    3|\n",
      "|  7|    2|\n",
      "|  3|    2|\n",
      "|  2|    2|\n",
      "|  5|    1|\n",
      "+---+-----+\n",
      "only showing top 5 rows\n",
      "\n"
     ]
    },
    {
     "name": "stderr",
     "output_type": "stream",
     "text": [
      "                                                                                \r"
     ]
    }
   ],
   "source": [
    "from pyspark.sql.functions import countDistinct\n",
    "df3 = df2.groupby(\"id\").count()\n",
    "df3.orderBy(F.col(\"count\").desc()).show(5)"
   ]
  },
  {
   "cell_type": "code",
   "execution_count": 19,
   "id": "4c49ad17",
   "metadata": {},
   "outputs": [
    {
     "name": "stdout",
     "output_type": "stream",
     "text": [
      "+---+-----+\n",
      "| id| sign|\n",
      "+---+-----+\n",
      "|  1| true|\n",
      "|  2|false|\n",
      "|  3| true|\n",
      "|  4|false|\n",
      "|  5| true|\n",
      "|  6|false|\n",
      "|  7| true|\n",
      "|  8|false|\n",
      "|  9|false|\n",
      "| 10|false|\n",
      "+---+-----+\n",
      "\n"
     ]
    }
   ],
   "source": [
    "df4 = df1.select(\"id\",\"sign\").distinct()\n",
    "df4.orderBy(\"id\").show()"
   ]
  },
  {
   "cell_type": "code",
   "execution_count": null,
   "id": "1af762e4",
   "metadata": {},
   "outputs": [],
   "source": [
    "# Посчитать процент посетителей, у которых есть ЛК"
   ]
  },
  {
   "cell_type": "code",
   "execution_count": 27,
   "id": "07048efe",
   "metadata": {},
   "outputs": [
    {
     "name": "stdout",
     "output_type": "stream",
     "text": [
      "процент посетителей, у которых есть ЛК : 40.0\n"
     ]
    }
   ],
   "source": [
    "c = df4.where(df4.sign == True).count() / df4.count() * 100\n",
    "print(f\"процент посетителей, у которых есть ЛК : {(c)}\")"
   ]
  },
  {
   "cell_type": "code",
   "execution_count": 28,
   "id": "4b7543ae",
   "metadata": {},
   "outputs": [
    {
     "name": "stdout",
     "output_type": "stream",
     "text": [
      "+-------+-------+\n",
      "|page_id|    tag|\n",
      "+-------+-------+\n",
      "|      1|  sport|\n",
      "|      1|  sport|\n",
      "|      1|  sport|\n",
      "|      1|  sport|\n",
      "|      1|  sport|\n",
      "|      1|  sport|\n",
      "|      1|  sport|\n",
      "|      1|  sport|\n",
      "|      2|  medik|\n",
      "|      2|  medik|\n",
      "|      2|  medik|\n",
      "|      2|  medik|\n",
      "|      2|  medik|\n",
      "|      2|  medik|\n",
      "|      3|   deti|\n",
      "|      3|   deti|\n",
      "|      4|politik|\n",
      "|      4|politik|\n",
      "|      4|politik|\n",
      "|      4|politik|\n",
      "+-------+-------+\n",
      "only showing top 20 rows\n",
      "\n"
     ]
    }
   ],
   "source": [
    "df5 = df1.select(\"page_id\",\"tag\").where(F.array_contains(df.type,\"click\"))\n",
    "df5.orderBy(\"page_id\").show()"
   ]
  },
  {
   "cell_type": "code",
   "execution_count": null,
   "id": "19f059c1",
   "metadata": {},
   "outputs": [],
   "source": [
    "# топ-3 страниц сайта по показателю общего кол-ва кликов на данной странице"
   ]
  },
  {
   "cell_type": "code",
   "execution_count": 33,
   "id": "80369df2",
   "metadata": {},
   "outputs": [
    {
     "name": "stdout",
     "output_type": "stream",
     "text": [
      "+-------+-------+-----+\n",
      "|page_id|    tag|count|\n",
      "+-------+-------+-----+\n",
      "|      1|  sport|    8|\n",
      "|      4|politik|    7|\n",
      "|      2|  medik|    6|\n",
      "+-------+-------+-----+\n",
      "only showing top 3 rows\n",
      "\n"
     ]
    }
   ],
   "source": [
    "df5.groupby(\"page_id\",\"tag\").count().orderBy(F.col(\"count\").desc()).show(3)"
   ]
  },
  {
   "cell_type": "code",
   "execution_count": 36,
   "id": "7d448e28",
   "metadata": {},
   "outputs": [
    {
     "name": "stdout",
     "output_type": "stream",
     "text": [
      "+---+-------------------+---------------+-------+-------+-----+-----------+\n",
      "| id|          timestamp|           type|page_id|    tag| sign|timestamp_1|\n",
      "+---+-------------------+---------------+-------+-------+-----+-----------+\n",
      "|  1|2022-11-20 10:00:00|        [visit]|      1|  sport| true| 1668938400|\n",
      "|  1|2022-11-20 10:01:00|[click, scroll]|      1|  sport| true| 1668938460|\n",
      "|  1|2022-11-20 10:20:00|         [move]|      1|  sport| true| 1668939600|\n",
      "|  1|2022-11-20 10:21:00|[click, scroll]|      2|  medik| true| 1668939660|\n",
      "|  1|2022-11-20 10:21:00|         [move]|      2|  medik| true| 1668939660|\n",
      "|  1|2022-11-20 10:37:00|[click, scroll]|      3|   deti| true| 1668940620|\n",
      "|  1|2022-11-20 11:00:00|         [move]|      2|   deti| true| 1668942000|\n",
      "|  2|2022-11-20 18:00:00| [visit, click]|      2|  medik|false| 1668967200|\n",
      "|  2|2022-11-20 18:05:00|       [scroll]|      2|  medik|false| 1668967500|\n",
      "|  2|2022-11-20 18:20:00|         [move]|      2|  medik|false| 1668968400|\n",
      "|  2|2022-11-20 18:21:00|        [click]|      3|   deti|false| 1668968460|\n",
      "|  2|2022-11-21 11:00:00| [visit, click]|      2|  medik|false| 1669028400|\n",
      "|  2|2022-11-21 11:15:00|         [move]|      2|  medik|false| 1669029300|\n",
      "|  2|2022-11-21 11:00:00|[click, scroll]|      4|politik|false| 1669028400|\n",
      "|  2|2022-11-21 11:00:00|         [move]|      4|politik|false| 1669028400|\n",
      "|  3|2022-11-20 12:00:00|        [visit]|      2|  medik| true| 1668945600|\n",
      "|  3|2022-11-20 12:03:00|[click, scroll]|      2|  medik| true| 1668945780|\n",
      "|  3|2022-11-20 12:23:00|         [move]|      2|  medik| true| 1668946980|\n",
      "|  3|2022-11-25 12:00:00|        [visit]|      2|  medik| true| 1669377600|\n",
      "|  3|2022-11-25 12:03:00|[click, scroll]|      2|  medik| true| 1669377780|\n",
      "+---+-------------------+---------------+-------+-------+-----+-----------+\n",
      "only showing top 20 rows\n",
      "\n"
     ]
    }
   ],
   "source": [
    "df6 = df.withColumn(\"timestamp_1\", F.unix_timestamp(F.col(\"timestamp\")))\n",
    "df6.show()"
   ]
  },
  {
   "cell_type": "code",
   "execution_count": null,
   "id": "8353f163",
   "metadata": {},
   "outputs": [],
   "source": [
    "# Добавьте столбец к фрейму данных со значением временного диапазона в рамках суток с размером окна – 4 часа(0-4, 4-8, 8-12 и т.д.)"
   ]
  },
  {
   "cell_type": "code",
   "execution_count": 37,
   "id": "c05e94ea",
   "metadata": {},
   "outputs": [
    {
     "name": "stdout",
     "output_type": "stream",
     "text": [
      "+-------------------+----+\n",
      "|          timestamp|hour|\n",
      "+-------------------+----+\n",
      "|2022-11-20 10:00:00|  10|\n",
      "|2022-11-20 10:01:00|  10|\n",
      "|2022-11-20 10:20:00|  10|\n",
      "|2022-11-20 10:21:00|  10|\n",
      "|2022-11-20 10:21:00|  10|\n",
      "|2022-11-20 10:37:00|  10|\n",
      "|2022-11-20 11:00:00|  11|\n",
      "|2022-11-20 18:00:00|  18|\n",
      "|2022-11-20 18:05:00|  18|\n",
      "|2022-11-20 18:20:00|  18|\n",
      "|2022-11-20 18:21:00|  18|\n",
      "|2022-11-21 11:00:00|  11|\n",
      "|2022-11-21 11:15:00|  11|\n",
      "|2022-11-21 11:00:00|  11|\n",
      "|2022-11-21 11:00:00|  11|\n",
      "|2022-11-20 12:00:00|  12|\n",
      "|2022-11-20 12:03:00|  12|\n",
      "|2022-11-20 12:23:00|  12|\n",
      "|2022-11-25 12:00:00|  12|\n",
      "|2022-11-25 12:03:00|  12|\n",
      "+-------------------+----+\n",
      "only showing top 20 rows\n",
      "\n"
     ]
    }
   ],
   "source": [
    "df7 = df.select(F.col(\"timestamp\"), \n",
    "    F.hour(F.col(\"timestamp\")).alias(\"hour\"))\n",
    "df7.show()"
   ]
  },
  {
   "cell_type": "code",
   "execution_count": 39,
   "id": "184058d6",
   "metadata": {},
   "outputs": [
    {
     "name": "stdout",
     "output_type": "stream",
     "text": [
      "+-------------------+----+-----+\n",
      "|          timestamp|hour|hour1|\n",
      "+-------------------+----+-----+\n",
      "|2022-11-20 10:00:00|  10|    3|\n",
      "|2022-11-20 10:01:00|  10|    3|\n",
      "|2022-11-20 10:20:00|  10|    3|\n",
      "|2022-11-20 10:21:00|  10|    3|\n",
      "|2022-11-20 10:21:00|  10|    3|\n",
      "|2022-11-20 10:37:00|  10|    3|\n",
      "|2022-11-20 11:00:00|  11|    3|\n",
      "|2022-11-20 18:00:00|  18|    5|\n",
      "|2022-11-20 18:05:00|  18|    5|\n",
      "|2022-11-20 18:20:00|  18|    5|\n",
      "|2022-11-20 18:21:00|  18|    5|\n",
      "|2022-11-21 11:00:00|  11|    3|\n",
      "|2022-11-21 11:15:00|  11|    3|\n",
      "|2022-11-21 11:00:00|  11|    3|\n",
      "|2022-11-21 11:00:00|  11|    3|\n",
      "|2022-11-20 12:00:00|  12|    3|\n",
      "|2022-11-20 12:03:00|  12|    3|\n",
      "|2022-11-20 12:23:00|  12|    3|\n",
      "|2022-11-25 12:00:00|  12|    3|\n",
      "|2022-11-25 12:03:00|  12|    3|\n",
      "+-------------------+----+-----+\n",
      "only showing top 20 rows\n",
      "\n"
     ]
    }
   ],
   "source": [
    "df8 = df7.withColumn(\"hour1\", F.ceil(df7.hour / 4 ))\n",
    "df8.show(100)"
   ]
  },
  {
   "cell_type": "code",
   "execution_count": null,
   "id": "0515efc5",
   "metadata": {},
   "outputs": [],
   "source": [
    "# Добавьте столбец к фрейму данных со значением временного диапазона в рамках суток с размером окна – 4 часа(0-4, 4-8, 8-12 и т.д.)"
   ]
  },
  {
   "cell_type": "code",
   "execution_count": 53,
   "id": "8eefadb8",
   "metadata": {},
   "outputs": [
    {
     "name": "stdout",
     "output_type": "stream",
     "text": [
      "+----+-----+\n",
      "|h_id|value|\n",
      "+----+-----+\n",
      "|   1|  0-4|\n",
      "|   2|  4-8|\n",
      "|   3| 8-12|\n",
      "|   4|12-16|\n",
      "|   5|16-20|\n",
      "|   6|20-24|\n",
      "+----+-----+\n",
      "\n"
     ]
    }
   ],
   "source": [
    "h = spark.createDataFrame([(1,\"0-4\"), (2,\"4-8\"), (3,\"8-12\"), (4,\"12-16\"), (5,\"16-20\"), (6,\"20-24\")], [\"h_id\", \"value\"])\n",
    "h.show()"
   ]
  },
  {
   "cell_type": "code",
   "execution_count": 64,
   "id": "0246dbc9",
   "metadata": {},
   "outputs": [
    {
     "name": "stdout",
     "output_type": "stream",
     "text": [
      "+---+-------------------+---------------+-------+-------+-----+-----+\n",
      "| id|          timestamp|           type|page_id|    tag| sign|value|\n",
      "+---+-------------------+---------------+-------+-------+-----+-----+\n",
      "|  1|2022-11-20 10:01:00|[click, scroll]|      1|  sport| true| 8-12|\n",
      "|  1|2022-11-20 11:00:00|         [move]|      2|   deti| true| 8-12|\n",
      "|  1|2022-11-20 10:00:00|        [visit]|      1|  sport| true| 8-12|\n",
      "|  1|2022-11-20 10:21:00|[click, scroll]|      2|  medik| true| 8-12|\n",
      "|  1|2022-11-20 10:37:00|[click, scroll]|      3|   deti| true| 8-12|\n",
      "|  1|2022-11-20 10:20:00|         [move]|      1|  sport| true| 8-12|\n",
      "|  1|2022-11-20 10:21:00|         [move]|      2|  medik| true| 8-12|\n",
      "|  2|2022-11-20 18:21:00|        [click]|      3|   deti|false|16-20|\n",
      "|  2|2022-11-20 18:05:00|       [scroll]|      2|  medik|false|16-20|\n",
      "|  2|2022-11-20 18:00:00| [visit, click]|      2|  medik|false|16-20|\n",
      "|  2|2022-11-21 11:00:00|[click, scroll]|      4|politik|false| 8-12|\n",
      "|  2|2022-11-20 18:20:00|         [move]|      2|  medik|false|16-20|\n",
      "|  2|2022-11-21 11:00:00| [visit, click]|      2|  medik|false| 8-12|\n",
      "|  2|2022-11-21 11:15:00|         [move]|      2|  medik|false| 8-12|\n",
      "|  2|2022-11-21 11:00:00|         [move]|      4|politik|false| 8-12|\n",
      "|  3|2022-11-25 12:03:00|[click, scroll]|      2|  medik| true| 8-12|\n",
      "|  3|2022-11-20 12:03:00|[click, scroll]|      2|  medik| true| 8-12|\n",
      "|  3|2022-11-25 12:23:00|         [move]|      2|  medik| true| 8-12|\n",
      "|  3|2022-11-25 12:00:00|        [visit]|      2|  medik| true| 8-12|\n",
      "|  3|2022-11-20 12:23:00|         [move]|      2|  medik| true| 8-12|\n",
      "+---+-------------------+---------------+-------+-------+-----+-----+\n",
      "only showing top 20 rows\n",
      "\n"
     ]
    }
   ],
   "source": [
    "df9 = df1.join(h, F.ceil(F.hour(F.col(\"timestamp\")) / 4) == h.h_id,\"inner\").select(df1.id, df1.timestamp, df1.type, df1.page_id, df1.tag, df1.sign, h.value)\n",
    "df9.orderBy(\"id\").show()"
   ]
  },
  {
   "cell_type": "code",
   "execution_count": 82,
   "id": "2a490190",
   "metadata": {},
   "outputs": [
    {
     "name": "stdout",
     "output_type": "stream",
     "text": [
      "+-----+-----+\n",
      "|value|count|\n",
      "+-----+-----+\n",
      "|20-24|    3|\n",
      "| 8-12|   34|\n",
      "|12-16|   10|\n",
      "|16-20|    4|\n",
      "|  0-4|    2|\n",
      "+-----+-----+\n",
      "\n"
     ]
    }
   ],
   "source": [
    "#Выведите временной промежуток на основе предыдущего задания, в течение которого было больше всего активностей на сайте.\n",
    "df9.groupBy(\"value\").count().show()"
   ]
  },
  {
   "cell_type": "code",
   "execution_count": 83,
   "id": "cf28fb3b",
   "metadata": {},
   "outputs": [
    {
     "name": "stderr",
     "output_type": "stream",
     "text": [
      "[Stage 206:=================================================>   (185 + 2) / 200]\r"
     ]
    },
    {
     "name": "stdout",
     "output_type": "stream",
     "text": [
      "+-----+-----+\n",
      "|value|count|\n",
      "+-----+-----+\n",
      "| 8-12|   34|\n",
      "+-----+-----+\n",
      "only showing top 1 row\n",
      "\n"
     ]
    },
    {
     "name": "stderr",
     "output_type": "stream",
     "text": [
      "                                                                                \r"
     ]
    }
   ],
   "source": [
    "df9.groupBy(\"value\").count().orderBy(F.col(\"count\").desc()).show(1)"
   ]
  },
  {
   "cell_type": "code",
   "execution_count": null,
   "id": "37a23f16",
   "metadata": {},
   "outputs": [],
   "source": [
    "# Создайте второй фрейм данных, который будет содержать информацию о ЛК посетителя сайта со следующим списком атрибутов"
   ]
  },
  {
   "cell_type": "code",
   "execution_count": 93,
   "id": "f87dc43e",
   "metadata": {},
   "outputs": [],
   "source": [
    "import datetime\n",
    "dfuser = spark.createDataFrame([(1,1,\"Ivanov Ivan Ivanovich\", datetime.date(1991,1,1),datetime.date(2020,10,11)), \n",
    "                                (2,3,\"Petrov Petr Petrovich\",datetime.date(1995,11,1),datetime.date(2019,9,7)),\n",
    "                                (3,5,\"Sidrov Ivan Petrovich\",datetime.date(1992,12,1),datetime.date(2018,5,7)),\n",
    "                                (4,7,\"Kolobkov Petr Ivanovich\",datetime.date(1990,7,3),datetime.date(2021,9,5))\n",
    "                              ], \n",
    "                               [\"id\", \"user_id\", \"FIO\", \"birthday_date\", \"create_date\"])"
   ]
  },
  {
   "cell_type": "code",
   "execution_count": 94,
   "id": "19497aea",
   "metadata": {},
   "outputs": [
    {
     "name": "stdout",
     "output_type": "stream",
     "text": [
      "root\n",
      " |-- id: long (nullable = true)\n",
      " |-- user_id: long (nullable = true)\n",
      " |-- FIO: string (nullable = true)\n",
      " |-- birthday_date: date (nullable = true)\n",
      " |-- create_date: date (nullable = true)\n",
      "\n"
     ]
    }
   ],
   "source": [
    "dfuser.printSchema()"
   ]
  },
  {
   "cell_type": "code",
   "execution_count": null,
   "id": "5c6a39bc",
   "metadata": {},
   "outputs": [],
   "source": [
    "# Вывести фамилии посетителей, которые читали хотя бы одну новость про спорт."
   ]
  },
  {
   "cell_type": "code",
   "execution_count": 96,
   "id": "2bb0b374",
   "metadata": {},
   "outputs": [
    {
     "name": "stdout",
     "output_type": "stream",
     "text": [
      "+--------------------+\n",
      "|                 FIO|\n",
      "+--------------------+\n",
      "|Ivanov Ivan Ivano...|\n",
      "|Sidrov Ivan Petro...|\n",
      "|Kolobkov Petr Iva...|\n",
      "+--------------------+\n",
      "\n"
     ]
    }
   ],
   "source": [
    "df10 = df1.join(dfuser, df1.id == dfuser.user_id,\"inner\").select(dfuser.FIO).where(df1.tag == \"sport\").distinct()\n",
    "df10.show()"
   ]
  },
  {
   "cell_type": "code",
   "execution_count": 122,
   "id": "bacbb0cb",
   "metadata": {},
   "outputs": [
    {
     "name": "stdout",
     "output_type": "stream",
     "text": [
      "+---+----------+\n",
      "| id|date_visit|\n",
      "+---+----------+\n",
      "|  1|2022-11-20|\n",
      "|  2|2022-11-20|\n",
      "|  2|2022-11-21|\n",
      "|  3|2022-11-20|\n",
      "|  3|2022-11-25|\n",
      "|  4|2022-11-20|\n",
      "|  5|2022-11-20|\n",
      "|  6|2022-11-21|\n",
      "|  7|2022-11-22|\n",
      "|  7|2022-11-24|\n",
      "|  8|2022-11-21|\n",
      "|  9|2022-11-20|\n",
      "|  9|2022-11-22|\n",
      "|  9|2022-11-24|\n",
      "| 10|2022-11-22|\n",
      "+---+----------+\n",
      "\n"
     ]
    }
   ],
   "source": [
    "from pyspark.sql.window import Window\n",
    "partitionWindow = Window.partitionBy(\"id\").orderBy(\"date_visit\").rowsBetween(Window.unboundedPreceding, Window.unboundedFollowing)\n",
    "df11 = df1.select(df1.id, df1.date_visit).distinct() \n",
    "df11.orderBy(\"id\").show(200)"
   ]
  },
  {
   "cell_type": "code",
   "execution_count": 124,
   "id": "3c6b00be",
   "metadata": {},
   "outputs": [
    {
     "name": "stdout",
     "output_type": "stream",
     "text": [
      "+---+----------+\n",
      "| id| lastvisit|\n",
      "+---+----------+\n",
      "|  1|2022-11-20|\n",
      "|  6|2022-11-21|\n",
      "|  3|2022-11-25|\n",
      "|  5|2022-11-20|\n",
      "|  9|2022-11-24|\n",
      "|  4|2022-11-20|\n",
      "|  8|2022-11-21|\n",
      "|  7|2022-11-24|\n",
      "| 10|2022-11-22|\n",
      "|  2|2022-11-21|\n",
      "+---+----------+\n",
      "\n"
     ]
    }
   ],
   "source": [
    "df12 = df11.withColumn(\"lastvisit\", F.last(\"date_visit\").over(partitionWindow)).drop(\"date_visit\").distinct()\n",
    "df12.show(200)"
   ]
  },
  {
   "cell_type": "code",
   "execution_count": 130,
   "id": "17fd702a",
   "metadata": {},
   "outputs": [
    {
     "name": "stdout",
     "output_type": "stream",
     "text": [
      "+---+--------------------+----------+-----------+---------+\n",
      "| id|                 FIO| lastvisit|create_date|diff_year|\n",
      "+---+--------------------+----------+-----------+---------+\n",
      "|  7|Kolobkov Petr Iva...|2022-11-24| 2021-09-05|        1|\n",
      "|  5|Sidrov Ivan Petro...|2022-11-20| 2018-05-07|        4|\n",
      "|  1|Ivanov Ivan Ivano...|2022-11-20| 2020-10-11|        2|\n",
      "|  3|Petrov Petr Petro...|2022-11-25| 2019-09-07|        3|\n",
      "+---+--------------------+----------+-----------+---------+\n",
      "\n"
     ]
    }
   ],
   "source": [
    "df13 = df12.join(dfuser, df1.id == dfuser.user_id,\"inner\").select(df12.id,dfuser.FIO, df12.lastvisit,dfuser.create_date,F.floor(F.datediff(F.col(\"lastvisit\"), F.col(\"create_date\"))/365).alias(\"diff_year\"))\n",
    "df13.show()"
   ]
  },
  {
   "cell_type": "code",
   "execution_count": null,
   "id": "34447c5d",
   "metadata": {},
   "outputs": [],
   "source": []
  }
 ],
 "metadata": {
  "kernelspec": {
   "display_name": "Python 3 (ipykernel)",
   "language": "python",
   "name": "python3"
  },
  "language_info": {
   "codemirror_mode": {
    "name": "ipython",
    "version": 3
   },
   "file_extension": ".py",
   "mimetype": "text/x-python",
   "name": "python",
   "nbconvert_exporter": "python",
   "pygments_lexer": "ipython3",
   "version": "3.9.2"
  }
 },
 "nbformat": 4,
 "nbformat_minor": 5
}
